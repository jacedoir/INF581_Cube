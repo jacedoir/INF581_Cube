{
 "cells": [
  {
   "cell_type": "markdown",
   "metadata": {},
   "source": [
    "## Imports"
   ]
  },
  {
   "cell_type": "code",
   "execution_count": 44,
   "metadata": {},
   "outputs": [],
   "source": [
    "import numpy as np\n",
    "import matplotlib.pyplot as plt\n",
    "import matplotlib.patches as patches\n",
    "import torch\n",
    "import torch.nn as nn\n",
    "import random\n",
    "from tqdm.notebook import tqdm\n",
    "from torch.optim.lr_scheduler import _LRScheduler\n",
    "from typing import List, Callable\n",
    "import collections"
   ]
  },
  {
   "cell_type": "markdown",
   "metadata": {},
   "source": [
    "## Environnement"
   ]
  },
  {
   "cell_type": "code",
   "execution_count": 32,
   "metadata": {},
   "outputs": [],
   "source": [
    "class Cube:\n",
    "    def __init__(self, size=3, live_display=False):\n",
    "        self.size = size\n",
    "        self.state = np.chararray((6, size, size), unicode=True)\n",
    "        self.position_dict = {0: \"left\", 1:\"top\", 2:\"front\", 3:\"bottom\", 4:\"back\", 5:\"right\"}\n",
    "        self.color_dict = {\"r\": \"red\", \"g\": \"green\", \"b\": \"blue\", \"o\": \"orange\", \"y\": \"yellow\", \"w\": \"black\", \"\":\"none\"}\n",
    "        self.live_display = live_display\n",
    "        if self.live_display:\n",
    "            self.figure, self.ax = plt.subplots()\n",
    "            self.ax.set_xlim(-1, 3*self.size)\n",
    "            self.ax.set_ylim(-3*self.size, 1)\n",
    "            self.ax.axis('off')\n",
    "        self.reset()\n",
    "\n",
    "    # equivalent\n",
    "    def reset(self):\n",
    "        \"\"\"Equivalent of gym Environment's #reset() \"\"\"\n",
    "        self.state[0] = np.array([[\"o\"]*self.size]*self.size)\n",
    "        self.state[1] = np.array([[\"w\"]*self.size]*self.size)\n",
    "        self.state[2] = np.array([[\"g\"]*self.size]*self.size)\n",
    "        self.state[3] = np.array([[\"y\"]*self.size]*self.size)\n",
    "        self.state[4] = np.array([[\"r\"]*self.size]*self.size)\n",
    "        self.state[5] = np.array([[\"b\"]*self.size]*self.size)\n",
    "\n",
    "    def print_2D(self):\n",
    "        if not(self.live_display):\n",
    "            plt.figure()\n",
    "        #Creation d'une matrice du patron du cube\n",
    "        pattern = np.chararray((4*self.size, 3*self.size), unicode=True)\n",
    "        pattern[:self.size, self.size:2*self.size] = self.state[1]\n",
    "        pattern[self.size:2*self.size, :self.size] = self.state[0]\n",
    "        pattern[self.size:2*self.size, self.size:2*self.size] = self.state[2]\n",
    "        pattern[2*self.size:3*self.size, self.size:2*self.size] = self.state[3]\n",
    "        pattern[3*self.size:, self.size:2*self.size] = np.rot90(self.state[4], 2)\n",
    "        pattern[self.size:2*self.size, 2*self.size:] = self.state[5]\n",
    "        #Affichage du patron du cube sous forme de carré coloré en utilisant les couleurs contenues dans pattern et color_dict\n",
    "        for i in range(4*self.size):\n",
    "            for j in range(3*self.size):\n",
    "                if self.live_display:\n",
    "                    pass\n",
    "                    self.figure.text(j, -i, pattern[i, j], color=self.color_dict[pattern[i, j]], ha='center', va='center')\n",
    "                else:\n",
    "                    print(i, j, pattern[i, j])\n",
    "                    rect = patches.Rectangle((0, 0), .5, .5, color='aqua')\n",
    "                    self.ax.add_patch(rect)\n",
    "                   # plt.text(j, -i, pattern[i, j], color=self.color_dict[pattern[i, j]], ha='center', va='center')\n",
    "        \n",
    "        if self.live_display:\n",
    "            self.figure.show()\n",
    "            plt.pause(3)  # Pause pendant 3 secondes\n",
    "            plt.close(self.figure)  # Fermer la figure après la pause\n",
    "        else:\n",
    "            #plt.xlim(-1, 3*self.size)\n",
    "            #plt.ylim(-4*self.size, 1)\n",
    "            #plt.axis('off')\n",
    "            #plt.show()\n",
    "\n",
    "            self.figure.canvas.draw()\n",
    "    \n",
    "    def horizontale_rotation(self, row, direction):\n",
    "        new_state = np.copy(self.state)\n",
    "        if row > self.size-1:\n",
    "            raise ValueError(\"Row number must be between 0 and \", self.size-1)\n",
    "        if direction == 1: #To the right\n",
    "            new_state[2, row, :] = self.state[0, row, :]\n",
    "            new_state[5, row, :] = self.state[2, row, :]\n",
    "            new_state[4, row, :] = self.state[5, row, :]\n",
    "            new_state[0, row, :] = self.state[4, row, :]\n",
    "            if row == 0:\n",
    "                new_state[1] = np.rot90(self.state[1])\n",
    "            elif row == self.size-1:\n",
    "                new_state[3] = np.rot90(self.state[3],3)\n",
    "        elif direction == -1: #To the left\n",
    "            new_state[0, row, :] = self.state[2, row, :]\n",
    "            new_state[2, row, :] = self.state[5, row, :]\n",
    "            new_state[5, row, :] = self.state[4, row, :]\n",
    "            new_state[4, row, :] = self.state[0, row, :]\n",
    "            if row == 0:\n",
    "                new_state[1] = np.rot90(self.state[1],3)\n",
    "            elif row == self.size-1:\n",
    "                new_state[3] = np.rot90(self.state[3])\n",
    "        self.state = new_state\n",
    "\n",
    "    def verticale_rotation(self, column, direction):\n",
    "        new_state = np.copy(self.state)\n",
    "        if column > self.size-1:\n",
    "            raise ValueError(\"Column number must be between 0 and \", self.size-1)\n",
    "        if direction == 1: #to the top\n",
    "            new_state[2, :, column] = self.state[3, :, column]\n",
    "            new_state[3, :, column] = self.state[4, :, column]\n",
    "            new_state[4, :, column] = self.state[1, :, column]\n",
    "            new_state[1, :, column] = self.state[2, :, column]\n",
    "            if column == 0:\n",
    "                new_state[0] = np.rot90(self.state[0])\n",
    "            elif column == self.size-1:\n",
    "                new_state[5] = np.rot90(self.state[5],3)\n",
    "        elif direction == -1: #to the bottom\n",
    "            new_state[3, :, column] = self.state[2, :, column]\n",
    "            new_state[4, :, column] = self.state[3, :, column]\n",
    "            new_state[1, :, column] = self.state[4, :, column]\n",
    "            new_state[2, :, column] = self.state[1, :, column]\n",
    "            if column == 0:\n",
    "                new_state[0] = np.rot90(self.state[0],3)\n",
    "            elif column == self.size-1:\n",
    "                new_state[5] = np.rot90(self.state[5])\n",
    "        self.state = new_state\n",
    "    \n",
    "    def face_rotation(self, face, direction):\n",
    "        new_state = np.copy(self.state)\n",
    "        if face > self.size-1:\n",
    "            raise ValueError(\"Face number must be between 0 and \", self.size-1)\n",
    "        if direction == 1: #clockwise\n",
    "            new_state[1,self.size-1-face,:] = self.state[0,:,self.size-1-face]\n",
    "            new_state[5, :, face] = self.state[1,self.size-1-face,:]\n",
    "            new_state[3,face,:] = self.state[5,:,self.size-1-face]\n",
    "            new_state[0,:,self.size-1-face] = self.state[3,face,:]\n",
    "            if face == 0:\n",
    "                new_state[2] = np.rot90(self.state[2],3)\n",
    "            elif face == self.size-1:\n",
    "                new_state[4] = np.rot90(self.state[4])\n",
    "        elif direction == -1: #counterclockwise\n",
    "            new_state[0,:,self.size-1-face] = self.state[1,self.size-1-face,:]\n",
    "            new_state[1,self.size-1-face,:] = self.state[5, :, self.size-1-face]\n",
    "            new_state[5, :, face] = self.state[3,face,:]\n",
    "            new_state[3,face,:] = self.state[0,:,self.size-1-face]\n",
    "            if face == 0:\n",
    "                new_state[2] = np.rot90(self.state[2])\n",
    "            elif face == self.size-1:\n",
    "                new_state[4] = np.rot90(self.state[4],3)\n",
    "        self.state = new_state\n",
    "\n",
    "    def shuffle(self, n):\n",
    "        for i in range(n):\n",
    "            face = np.random.randint(self.size)\n",
    "            direction = np.random.choice([-1,1])\n",
    "            operation = np.random.randint(3)\n",
    "            if operation == 0:\n",
    "                self.horizontale_rotation(face, direction)\n",
    "            elif operation == 1:\n",
    "                self.verticale_rotation(face, direction)\n",
    "            else:\n",
    "                self.face_rotation(face, direction)"
   ]
  },
  {
   "cell_type": "code",
   "execution_count": 40,
   "metadata": {},
   "outputs": [
    {
     "name": "stdout",
     "output_type": "stream",
     "text": [
      "PyTorch will train neural networks on cuda\n"
     ]
    }
   ],
   "source": [
    "# Taille du rubik's cube\n",
    "CUBE_SIZE = 2"
   ]
  },
  {
   "cell_type": "code",
   "execution_count": 34,
   "metadata": {},
   "outputs": [
    {
     "name": "stdout",
     "output_type": "stream",
     "text": [
      "0 0 \n"
     ]
    },
    {
     "ename": "AttributeError",
     "evalue": "'Cube' object has no attribute 'ax'",
     "output_type": "error",
     "traceback": [
      "\u001b[1;31m---------------------------------------------------------------------------\u001b[0m",
      "\u001b[1;31mAttributeError\u001b[0m                            Traceback (most recent call last)",
      "Cell \u001b[1;32mIn[34], line 2\u001b[0m\n\u001b[0;32m      1\u001b[0m cube \u001b[38;5;241m=\u001b[39m Cube(CUBE_SIZE)\n\u001b[1;32m----> 2\u001b[0m \u001b[43mcube\u001b[49m\u001b[38;5;241;43m.\u001b[39;49m\u001b[43mprint_2D\u001b[49m\u001b[43m(\u001b[49m\u001b[43m)\u001b[49m\n\u001b[0;32m      3\u001b[0m cube\u001b[38;5;241m.\u001b[39mshuffle(\u001b[38;5;241m25\u001b[39m)\n\u001b[0;32m      4\u001b[0m cube\u001b[38;5;241m.\u001b[39mprint_2D()\n",
      "Cell \u001b[1;32mIn[32], line 43\u001b[0m, in \u001b[0;36mCube.print_2D\u001b[1;34m(self)\u001b[0m\n\u001b[0;32m     41\u001b[0m             \u001b[38;5;28mprint\u001b[39m(i, j, pattern[i, j])\n\u001b[0;32m     42\u001b[0m             rect \u001b[38;5;241m=\u001b[39m patches\u001b[38;5;241m.\u001b[39mRectangle((\u001b[38;5;241m0\u001b[39m, \u001b[38;5;241m0\u001b[39m), \u001b[38;5;241m.5\u001b[39m, \u001b[38;5;241m.5\u001b[39m, color\u001b[38;5;241m=\u001b[39m\u001b[38;5;124m'\u001b[39m\u001b[38;5;124maqua\u001b[39m\u001b[38;5;124m'\u001b[39m)\n\u001b[1;32m---> 43\u001b[0m             \u001b[38;5;28;43mself\u001b[39;49m\u001b[38;5;241;43m.\u001b[39;49m\u001b[43max\u001b[49m\u001b[38;5;241m.\u001b[39madd_patch(rect)\n\u001b[0;32m     44\u001b[0m            \u001b[38;5;66;03m# plt.text(j, -i, pattern[i, j], color=self.color_dict[pattern[i, j]], ha='center', va='center')\u001b[39;00m\n\u001b[0;32m     46\u001b[0m \u001b[38;5;28;01mif\u001b[39;00m \u001b[38;5;28mself\u001b[39m\u001b[38;5;241m.\u001b[39mlive_display:\n",
      "\u001b[1;31mAttributeError\u001b[0m: 'Cube' object has no attribute 'ax'"
     ]
    },
    {
     "data": {
      "text/plain": [
       "<Figure size 640x480 with 0 Axes>"
      ]
     },
     "metadata": {},
     "output_type": "display_data"
    }
   ],
   "source": [
    "cube = Cube(CUBE_SIZE)\n",
    "cube.print_2D()\n",
    "cube.shuffle(25)\n",
    "cube.print_2D()"
   ]
  },
  {
   "cell_type": "markdown",
   "metadata": {},
   "source": [
    "## Modèle utilisé comme contrôleur"
   ]
  },
  {
   "cell_type": "code",
   "execution_count": 41,
   "metadata": {},
   "outputs": [
    {
     "ename": "SyntaxError",
     "evalue": "invalid syntax (1006862838.py, line 29)",
     "output_type": "error",
     "traceback": [
      "\u001b[1;36m  Cell \u001b[1;32mIn[41], line 29\u001b[1;36m\u001b[0m\n\u001b[1;33m    weights =\u001b[0m\n\u001b[1;37m              ^\u001b[0m\n\u001b[1;31mSyntaxError\u001b[0m\u001b[1;31m:\u001b[0m invalid syntax\n"
     ]
    }
   ],
   "source": [
    "n_input  = 6 * 6 * CUBE_SIZE * CUBE_SIZE # 6 = nombre de faces // size^2 = nombre de couleurs par face // 6 = one-hot encoding des couleurs\n",
    "n_output = 6 * (CUBE_SIZE - 1) # a chaque fois qu'on rajoute une dim, on rajoute 6 coups possible (2 par nouveau plan, x3 car nb d'axes de l'espace)\n",
    "n_dense  = 256 # au pif, un pax avait choisi 1024 pour le 3x3\n",
    "\n",
    "# Setup cuda/cpu device\n",
    "device = torch.device(\"cuda\" if torch.cuda.is_available() else \"cpu\")  # Set the device to CUDA if available, otherwise use CPU\n",
    "print(f\"PyTorch will train neural networks on {device}\")\n",
    "\n",
    "class QNetwork(torch.nn.Module):\n",
    "    def __init__(self):\n",
    "        super(QNetwork, self).__init__()\n",
    "        \n",
    "        self.l1 = nn.Linear(n_input, n_dense)\n",
    "        self.l2 = nn.Linear(n_dense, n_dense)\n",
    "        self.l3 = nn.Linear(n_dense, n_dense)\n",
    "        self.l4 = nn.Linear(n_dense, n_output)\n",
    "        self.relu = nn.ReLU()\n",
    "\n",
    "    def forward(self, x: torch.Tensor) -> torch.Tensor:\n",
    "        x = self.l1(x)\n",
    "        x = self.relu(x)\n",
    "        x = self.l2(x)\n",
    "        x = self.relu(x)\n",
    "        x = self.l3(x)\n",
    "        x = self.relu(x)\n",
    "        x = self.l4(x)\n",
    "        return x"
   ]
  },
  {
   "cell_type": "markdown",
   "metadata": {},
   "source": [
    "## Policy"
   ]
  },
  {
   "cell_type": "code",
   "execution_count": 37,
   "metadata": {},
   "outputs": [],
   "source": [
    "class EpsilonGreedy:\n",
    "    \n",
    "    def __init__(self,\n",
    "                 epsilon_start: float,\n",
    "                 epsilon_min: float,\n",
    "                 epsilon_decay: float,\n",
    "                 q_network: torch.nn.Module):\n",
    "        self.epsilon = epsilon_start\n",
    "        self.epsilon_min = epsilon_min\n",
    "        self.epsilon_decay = epsilon_decay\n",
    "        self.q_network = q_network\n",
    "\n",
    "    def __call__(self, state: np.ndarray) -> np.int64:\n",
    "        if random.random() < self.epsilon:\n",
    "            return self.env.action_space.sample()\n",
    "        \n",
    "        state_tensor = torch.tensor(state, dtype=torch.float32, device=device).unsqueeze(0)\n",
    "        \n",
    "        with torch.no_grad():\n",
    "            q_values = self.q_network(state_tensor)\n",
    "        \n",
    "        return torch.argmax(q_values, dim=1).item()\n",
    "\n",
    "    def decay_epsilon(self):\n",
    "        self.epsilon = max(self.epsilon_min, self.epsilon * self.epsilon_decay)"
   ]
  },
  {
   "cell_type": "code",
   "execution_count": null,
   "metadata": {},
   "outputs": [],
   "source": [
    "policy=EpsilonGreedy()"
   ]
  },
  {
   "cell_type": "code",
   "execution_count": 38,
   "metadata": {},
   "outputs": [
    {
     "data": {
      "image/png": "[encoded data removed]",
      "text/plain": [
       "<Figure size 640x480 with 1 Axes>"
      ]
     },
     "metadata": {},
     "output_type": "display_data"
    }
   ],
   "source": [
    "fig, ax = plt.subplots()\n",
    "rect = patches.Rectangle((0, 0), width=.5, height=.5, color='aqua')\n",
    "ax.add_patch(rect)\n",
    "fig.canvas.draw()"
   ]
  },
  {
   "cell_type": "markdown",
   "metadata": {},
   "source": [
    "## Learning rate scheduler"
   ]
  },
  {
   "cell_type": "code",
   "execution_count": null,
   "metadata": {},
   "outputs": [],
   "source": [
    "class MinimumExponentialLR(torch.optim.lr_scheduler.ExponentialLR):\n",
    "    \n",
    "    def __init__(self, optimizer: torch.optim.Optimizer, lr_decay: float, last_epoch: int = -1, min_lr: float = 1e-6):\n",
    "        self.min_lr = min_lr\n",
    "        super().__init__(optimizer, lr_decay, last_epoch=-1)\n",
    "\n",
    "    def get_lr(self):\n",
    "        return [\n",
    "            max(base_lr * self.gamma ** self.last_epoch, self.min_lr)\n",
    "            for base_lr in self.base_lrs\n",
    "        ]"
   ]
  },
  {
   "cell_type": "markdown",
   "metadata": {},
   "source": [
    "## Replay buffer"
   ]
  },
  {
   "cell_type": "code",
   "execution_count": null,
   "metadata": {},
   "outputs": [],
   "source": [
    "class ReplayBuffer:\n",
    "    def __init__(self, capacity: int):\n",
    "        self.buffer = collections.deque(maxlen=capacity)\n",
    "\n",
    "    def add(self, state: np.ndarray, action: np.int64, reward: float, next_state: np.ndarray, done: bool):\n",
    "        \"\"\"\n",
    "        Add a new transition to the buffer.\n",
    "\n",
    "        Parameters\n",
    "        ----------\n",
    "        state : np.ndarray\n",
    "            The state vector of the added transition.\n",
    "        action : np.int64\n",
    "            The action of the added transition.\n",
    "        reward : float\n",
    "            The reward of the added transition.\n",
    "        next_state : np.ndarray\n",
    "            The next state vector of the added transition.\n",
    "        done : bool\n",
    "            The final state of the added transition.\n",
    "        \"\"\"\n",
    "        self.buffer.append((state, action, reward, next_state, done))\n",
    "\n",
    "    def sample(self, batch_size: int) -> Tuple[np.ndarray, float, float, np.ndarray, bool]:\n",
    "        \"\"\"\n",
    "        Sample a batch of transitions from the buffer.\n",
    "\n",
    "        Parameters\n",
    "        ----------\n",
    "        batch_size : int\n",
    "            The number of transitions to sample.\n",
    "\n",
    "        Returns\n",
    "        -------\n",
    "        Tuple[np.ndarray, float, float, np.ndarray, bool]\n",
    "            A batch of `batch_size` transitions.\n",
    "        \"\"\"\n",
    "        # Here, `random.sample(self.buffer, batch_size)`\n",
    "        # returns a list of tuples `(state, action, reward, next_state, done)`\n",
    "        # where:\n",
    "        # - `state`  and `next_state` are numpy arrays\n",
    "        # - `action` and `reward` are floats\n",
    "        # - `done` is a boolean\n",
    "        #\n",
    "        # `states, actions, rewards, next_states, dones = zip(*random.sample(self.buffer, batch_size))`\n",
    "        # generates 5 tuples `state`, `action`, `reward`, `next_state` and `done`, each having `batch_size` elements.\n",
    "        states, actions, rewards, next_states, dones = zip(*random.sample(self.buffer, batch_size))\n",
    "        return np.array(states), actions, rewards, np.array(next_states), dones\n",
    "\n",
    "    def __len__(self):\n",
    "        \"\"\"\n",
    "        Return the current size of the buffer.\n",
    "\n",
    "        Returns\n",
    "        -------\n",
    "        int\n",
    "            The current size of the buffer.\n",
    "        \"\"\"\n",
    "        return len(self.buffer)"
   ]
  },
  {
   "cell_type": "markdown",
   "metadata": {},
   "source": [
    "## Train function"
   ]
  },
  {
   "cell_type": "code",
   "execution_count": null,
   "metadata": {},
   "outputs": [],
   "source": [
    "def train_dqn2_agent(\n",
    "                     env: Cube,\n",
    "                     q_network: torch.nn.Module,\n",
    "                     target_q_network: torch.nn.Module,\n",
    "                     optimizer: torch.optim.Optimizer,\n",
    "                     loss_fn: Callable,\n",
    "                     epsilon_greedy: EpsilonGreedy,\n",
    "                     device: torch.device,\n",
    "                     lr_scheduler: _LRScheduler,\n",
    "                     num_episodes: int,\n",
    "                     gamma: float,\n",
    "                     batch_size: int,\n",
    "                     replay_buffer: ReplayBuffer,\n",
    "                     target_q_network_sync_period: int) -> List[float]:\n",
    "    iteration = 0\n",
    "    episode_reward_list = []\n",
    "\n",
    "    for episode_index in tqdm(range(1, num_episodes)):\n",
    "        state = env.reset()\n",
    "        episode_reward = 0\n",
    "\n",
    "        while True:\n",
    "\n",
    "            # Get action, next_state and reward\n",
    "            action = epsilon_greedy(state)\n",
    "\n",
    "            next_state, reward, terminated, truncated, info = env.step(action)\n",
    "            done = terminated or truncated\n",
    "\n",
    "            replay_buffer.add(state, action, reward, next_state, done)\n",
    "\n",
    "            episode_reward += reward\n",
    "\n",
    "            # Update the q_network weights with a batch of experiences from the buffer\n",
    "\n",
    "            if len(replay_buffer) > batch_size:\n",
    "                batch_states, batch_actions, batch_rewards, batch_next_states, batch_dones = replay_buffer.sample(batch_size)\n",
    "\n",
    "                # Convert to PyTorch tensors\n",
    "                batch_states_tensor = torch.tensor(batch_states, dtype=torch.float32, device=device)\n",
    "                batch_actions_tensor = torch.tensor(batch_actions, dtype=torch.long, device=device)\n",
    "                batch_rewards_tensor = torch.tensor(batch_rewards, dtype=torch.float32, device=device)\n",
    "                batch_next_states_tensor = torch.tensor(batch_next_states, dtype=torch.float32, device=device)\n",
    "                batch_dones_tensor = torch.tensor(batch_dones, dtype=torch.float32, device=device)\n",
    "\n",
    "                target_tensor = batch_rewards_tensor + gamma * target_q_network(batch_next_states_tensor).max(dim=1)[0] * (1 - batch_dones_tensor)\n",
    "                output_tensor = q_network(batch_states_tensor).index_select(dim=1, index=batch_actions_tensor)\n",
    "                loss = loss_fn(output_tensor, target_tensor)\n",
    "\n",
    "                # Optimize the model\n",
    "                optimizer.zero_grad()\n",
    "                loss.backward()\n",
    "                optimizer.step()\n",
    "\n",
    "                lr_scheduler.step()\n",
    "\n",
    "            # Update the target q-network\n",
    "\n",
    "            # Every few training steps (e.g., every 100 steps), the weights of the target network are updated with the weights of the Q-network\n",
    "            if iteration % target_q_network_sync_period == 0:\n",
    "                target_q_network.load_state_dict(q_network.state_dict())\n",
    "\n",
    "            iteration += 1\n",
    "\n",
    "            if done:\n",
    "                break\n",
    "\n",
    "            state = next_state\n",
    "\n",
    "        episode_reward_list.append(episode_reward)\n",
    "        epsilon_greedy.decay_epsilon()\n",
    "\n",
    "    return episode_reward_list"
   ]
  },
  {
   "cell_type": "markdown",
   "metadata": {},
   "source": [
    "## Train it"
   ]
  },
  {
   "cell_type": "code",
   "execution_count": null,
   "metadata": {},
   "outputs": [],
   "source": [
    "\n",
    "NUMBER_OF_TRAININGS = 20\n",
    "dqn2_trains_result_list = [[], [], []]\n",
    "\n",
    "for train_index in range(NUMBER_OF_TRAININGS):\n",
    "    q_network = QNetwork().to(device) # q network\n",
    "    target_q_network = QNetwork().to(device) # target q network\n",
    "    target_q_network.load_state_dict(q_network.state_dict()) # load same weights\n",
    "\n",
    "    optimizer = torch.optim.AdamW(q_network.parameters(), lr=0.004, amsgrad=True)\n",
    "    #lr_scheduler = torch.optim.lr_scheduler.ExponentialLR(optimizer, gamma=0.999)\n",
    "    lr_scheduler = MinimumExponentialLR(optimizer, lr_decay=0.97, min_lr=0.0001)\n",
    "    loss_fn = torch.nn.MSELoss()\n",
    "\n",
    "    epsilon_greedy = EpsilonGreedy(epsilon_start=0.82, epsilon_min=0.013, epsilon_decay=0.9675, q_network=q_network)\n",
    "\n",
    "    replay_buffer = ReplayBuffer(2000)\n",
    "\n",
    "    # Train the q-network\n",
    "\n",
    "    episode_reward_list = train_dqn2_agent(q_network,\n",
    "                                           target_q_network,\n",
    "                                           optimizer,\n",
    "                                           loss_fn,\n",
    "                                           epsilon_greedy,\n",
    "                                           device,\n",
    "                                           lr_scheduler,\n",
    "                                           num_episodes=150,\n",
    "                                           gamma=0.9,\n",
    "                                           batch_size=128,\n",
    "                                           replay_buffer=replay_buffer,\n",
    "                                           target_q_network_sync_period=30)\n",
    "    dqn2_trains_result_list[0].extend(range(len(episode_reward_list)))\n",
    "    dqn2_trains_result_list[1].extend(episode_reward_list)\n",
    "    dqn2_trains_result_list[2].extend([train_index for _ in episode_reward_list])\n",
    "\n",
    "dqn2_trains_result_df = pd.DataFrame(np.array(dqn2_trains_result_list).T, columns=[\"num_episodes\", \"mean_final_episode_reward\", \"training_index\"])\n",
    "dqn2_trains_result_df[\"agent\"] = \"DQN 2015\"\n",
    "\n",
    "# Save the action-value estimation function\n",
    "torch.save(q_network, \"dqn2_q_network.pth\")"
   ]
  },
  {
   "cell_type": "markdown",
   "metadata": {},
   "source": []
  }
 ],
 "metadata": {
  "kernelspec": {
   "display_name": "Python 3",
   "language": "python",
   "name": "python3"
  },
  "language_info": {
   "codemirror_mode": {
    "name": "ipython",
    "version": 3
   },
   "file_extension": ".py",
   "mimetype": "text/x-python",
   "name": "python",
   "nbconvert_exporter": "python",
   "pygments_lexer": "ipython3",
   "version": "3.11.4"
  }
 },
 "nbformat": 4,
 "nbformat_minor": 2
}
