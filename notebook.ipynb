{
 "cells": [
  {
   "cell_type": "markdown",
   "metadata": {},
   "source": [
    "## Imports"
   ]
  },
  {
   "cell_type": "code",
   "execution_count": 1,
   "metadata": {},
   "outputs": [],
   "source": [
    "import numpy as np\n",
    "import matplotlib.pyplot as plt\n",
    "import matplotlib.patches as patches\n",
    "import torch\n",
    "import torch.nn as nn\n",
    "import random\n",
    "from tqdm.notebook import tqdm\n",
    "from torch.optim.lr_scheduler import _LRScheduler\n",
    "from typing import List, Callable, Tuple\n",
    "import collections\n",
    "import gymnasium as gym\n",
    "from gymnasium import spaces\n",
    "import pygame\n",
    "from cube import CubeEnv"
   ]
  },
  {
   "cell_type": "markdown",
   "metadata": {},
   "source": [
    "## Environnement"
   ]
  },
  {
   "cell_type": "code",
   "execution_count": 2,
   "metadata": {},
   "outputs": [
    {
<<<<<<< HEAD
     "ename": "AttributeError",
     "evalue": "'CubeEnv' object has no attribute 'horizontale_rotation'",
     "output_type": "error",
     "traceback": [
      "\u001b[1;31m---------------------------------------------------------------------------\u001b[0m",
      "\u001b[1;31mAttributeError\u001b[0m                            Traceback (most recent call last)",
      "Cell \u001b[1;32mIn[2], line 2\u001b[0m\n\u001b[0;32m      1\u001b[0m env \u001b[38;5;241m=\u001b[39m CubeEnv()\n\u001b[1;32m----> 2\u001b[0m \u001b[43menv\u001b[49m\u001b[38;5;241;43m.\u001b[39;49m\u001b[43mshuffle\u001b[49m\u001b[43m(\u001b[49m\u001b[38;5;241;43m25\u001b[39;49m\u001b[43m)\u001b[49m\n\u001b[0;32m      3\u001b[0m env\u001b[38;5;241m.\u001b[39mprint_2D()\n",
      "File \u001b[1;32mc:\\Users\\litiw\\gitProjects\\INF581_Cube\\cube.py:267\u001b[0m, in \u001b[0;36mCubeEnv.shuffle\u001b[1;34m(self, n_moves)\u001b[0m\n\u001b[0;32m    265\u001b[0m operation \u001b[38;5;241m=\u001b[39m np\u001b[38;5;241m.\u001b[39mrandom\u001b[38;5;241m.\u001b[39mrandint(\u001b[38;5;241m3\u001b[39m)\n\u001b[0;32m    266\u001b[0m \u001b[38;5;28;01mif\u001b[39;00m operation \u001b[38;5;241m==\u001b[39m \u001b[38;5;241m0\u001b[39m:\n\u001b[1;32m--> 267\u001b[0m     \u001b[38;5;28;43mself\u001b[39;49m\u001b[38;5;241;43m.\u001b[39;49m\u001b[43mhorizontale_rotation\u001b[49m(face, direction)\n\u001b[0;32m    268\u001b[0m \u001b[38;5;28;01melif\u001b[39;00m operation \u001b[38;5;241m==\u001b[39m \u001b[38;5;241m1\u001b[39m:\n\u001b[0;32m    269\u001b[0m     \u001b[38;5;28mself\u001b[39m\u001b[38;5;241m.\u001b[39mverticale_rotation(face, direction)\n",
      "\u001b[1;31mAttributeError\u001b[0m: 'CubeEnv' object has no attribute 'horizontale_rotation'"
     ]
=======
     "data": {
      "image/png": "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",
      "text/plain": [
       "<Figure size 640x480 with 1 Axes>"
      ]
     },
     "metadata": {},
     "output_type": "display_data"
>>>>>>> 9979663c8f9e627cd21bcde22245de39e9669c47
    }
   ],
   "source": [
    "env = CubeEnv(render_mode=\"rgb_array\") # human ne marche pas pour l'instant\n",
    "env.reset()\n",
    "env.shuffle(1)\n",
    "env.render()\n",
    "#env.shuffle(25)\n",
    "#env.render()"
   ]
  },
  {
   "cell_type": "markdown",
   "metadata": {},
   "source": [
    "## Modèle utilisé comme contrôleur"
   ]
  },
  {
   "cell_type": "code",
   "execution_count": 3,
   "metadata": {},
   "outputs": [
    {
     "ename": "AttributeError",
     "evalue": "'Discrete' object has no attribute 'size'",
     "output_type": "error",
     "traceback": [
      "\u001b[1;31m---------------------------------------------------------------------------\u001b[0m",
      "\u001b[1;31mAttributeError\u001b[0m                            Traceback (most recent call last)",
      "Cell \u001b[1;32mIn[3], line 5\u001b[0m\n\u001b[0;32m      2\u001b[0m CUBE_SIZE\u001b[38;5;241m=\u001b[39m\u001b[38;5;241m2\u001b[39m\n\u001b[0;32m      4\u001b[0m n_input  \u001b[38;5;241m=\u001b[39m \u001b[38;5;241m6\u001b[39m \u001b[38;5;241m*\u001b[39m \u001b[38;5;241m6\u001b[39m \u001b[38;5;241m*\u001b[39m CUBE_SIZE \u001b[38;5;241m*\u001b[39m CUBE_SIZE \u001b[38;5;66;03m# 6 = nombre de faces // size^2 = nombre de couleurs par face // 6 = one-hot encoding des couleurs\u001b[39;00m\n\u001b[1;32m----> 5\u001b[0m n_output \u001b[38;5;241m=\u001b[39m \u001b[43menv\u001b[49m\u001b[38;5;241;43m.\u001b[39;49m\u001b[43maction_space\u001b[49m\u001b[38;5;241;43m.\u001b[39;49m\u001b[43msize\u001b[49m()\n\u001b[0;32m      6\u001b[0m n_dense  \u001b[38;5;241m=\u001b[39m \u001b[38;5;241m256\u001b[39m \u001b[38;5;66;03m# au pif, un pax avait choisi 1024 pour le 3x3\u001b[39;00m\n\u001b[0;32m      8\u001b[0m \u001b[38;5;66;03m# Setup cuda/cpu device\u001b[39;00m\n",
      "\u001b[1;31mAttributeError\u001b[0m: 'Discrete' object has no attribute 'size'"
     ]
    }
   ],
   "source": [
    "# Source: TD6 INF581\n",
    "CUBE_SIZE=2\n",
    "\n",
    "n_input  = 6 * 6 * env.size * env.size # 6 = nombre de faces // size^2 = nombre de couleurs par face // 6 = one-hot encoding des couleurs\n",
    "n_output = env.action_space.size()\n",
    "n_dense  = 256 # au pif, un pax avait choisi 1024 pour le 3x3\n",
    "\n",
    "# Setup cuda/cpu device\n",
    "device = torch.device(\"cuda\" if torch.cuda.is_available() else \"cpu\")  # Set the device to CUDA if available, otherwise use CPU\n",
    "print(f\"PyTorch will train neural networks on {device}\")\n",
    "\n",
    "class QNetwork(torch.nn.Module):\n",
    "    def __init__(self):\n",
    "        super(QNetwork, self).__init__()\n",
    "        \n",
    "        self.l1 = nn.Linear(n_input, n_dense)\n",
    "        self.l2 = nn.Linear(n_dense, n_dense)\n",
    "        self.l3 = nn.Linear(n_dense, n_dense)\n",
    "        self.l4 = nn.Linear(n_dense, n_output)\n",
    "        self.relu = nn.ReLU()\n",
    "\n",
    "    def forward(self, x: torch.Tensor) -> torch.Tensor:\n",
    "        x = self.l1(x)\n",
    "        x = self.relu(x)\n",
    "        x = self.l2(x)\n",
    "        x = self.relu(x)\n",
    "        x = self.l3(x)\n",
    "        x = self.relu(x)\n",
    "        x = self.l4(x)\n",
    "        return x"
   ]
  },
  {
   "cell_type": "markdown",
   "metadata": {},
   "source": [
    "## Policy"
   ]
  },
  {
   "cell_type": "code",
   "execution_count": 10,
   "metadata": {},
   "outputs": [],
   "source": [
    "class EpsilonGreedy:\n",
    "    \n",
    "    def __init__(self,\n",
    "                 epsilon_start: float,\n",
    "                 epsilon_min: float,\n",
    "                 epsilon_decay: float,\n",
    "                 q_network: torch.nn.Module):\n",
    "        self.epsilon = epsilon_start\n",
    "        self.epsilon_min = epsilon_min\n",
    "        self.epsilon_decay = epsilon_decay\n",
    "        self.q_network = q_network\n",
    "\n",
    "    def __call__(self, state: np.ndarray) -> np.int64:\n",
    "        if random.random() < self.epsilon:\n",
    "            return self.env.action_space.sample()\n",
    "        \n",
    "        state_tensor = torch.tensor(state, dtype=torch.float32, device=device).unsqueeze(0)\n",
    "        \n",
    "        with torch.no_grad():\n",
    "            q_values = self.q_network(state_tensor)\n",
    "        \n",
    "        return torch.argmax(q_values, dim=1).item()\n",
    "\n",
    "    def decay_epsilon(self):\n",
    "        self.epsilon = max(self.epsilon_min, self.epsilon * self.epsilon_decay)"
   ]
  },
  {
   "cell_type": "code",
   "execution_count": 12,
   "metadata": {},
   "outputs": [
    {
     "data": {
      "image/png": "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",
      "text/plain": [
       "<Figure size 640x480 with 1 Axes>"
      ]
     },
     "metadata": {},
     "output_type": "display_data"
    }
   ],
   "source": [
    "fig, ax = plt.subplots()\n",
    "rect = patches.Rectangle((0, 0), width=.5, height=.5, color='aqua')\n",
    "ax.add_patch(rect)\n",
    "fig.canvas.draw()"
   ]
  },
  {
   "cell_type": "markdown",
   "metadata": {},
   "source": [
    "## Learning rate scheduler"
   ]
  },
  {
   "cell_type": "code",
   "execution_count": 13,
   "metadata": {},
   "outputs": [],
   "source": [
    "class MinimumExponentialLR(torch.optim.lr_scheduler.ExponentialLR):\n",
    "    \n",
    "    def __init__(self, optimizer: torch.optim.Optimizer, lr_decay: float, last_epoch: int = -1, min_lr: float = 1e-6):\n",
    "        self.min_lr = min_lr\n",
    "        super().__init__(optimizer, lr_decay, last_epoch=-1)\n",
    "\n",
    "    def get_lr(self):\n",
    "        return [\n",
    "            max(base_lr * self.gamma ** self.last_epoch, self.min_lr)\n",
    "            for base_lr in self.base_lrs\n",
    "        ]"
   ]
  },
  {
   "cell_type": "markdown",
   "metadata": {},
   "source": [
    "## Replay buffer"
   ]
  },
  {
   "cell_type": "code",
   "execution_count": 15,
   "metadata": {},
   "outputs": [],
   "source": [
    "class ReplayBuffer:\n",
    "    def __init__(self, capacity: int):\n",
    "        self.buffer = collections.deque(maxlen=capacity)\n",
    "\n",
    "    def add(self, state: np.ndarray, action: np.int64, reward: float, next_state: np.ndarray, done: bool):\n",
    "        self.buffer.append((state, action, reward, next_state, done))\n",
    "\n",
    "    def sample(self, batch_size: int) -> Tuple[np.ndarray, float, float, np.ndarray, bool]:\n",
    "        states, actions, rewards, next_states, dones = zip(*random.sample(self.buffer, batch_size))\n",
    "        return np.array(states), actions, rewards, np.array(next_states), dones\n",
    "\n",
    "    def __len__(self):\n",
    "        return len(self.buffer)"
   ]
  },
  {
   "cell_type": "markdown",
   "metadata": {},
   "source": [
    "## Train function"
   ]
  },
  {
   "cell_type": "markdown",
   "metadata": {},
   "source": [
    "### Observations about the problem\n",
    "\n",
    "- This problem is characterized by its vast state space and the scarcity of the reward that exists only when reaching the solved state if we don't introduce knowledge into the model. We could potentially introduce at one point a reward function that gives information about the quality of the current state.\n",
    "\n",
    "- The system is deterministic and we know all the transitions of it. \n",
    "\n",
    "### We decide for now to not introduce any knowledge and have a reward of 1 if reaching the solved state and -1 else\n",
    "\n",
    "\n",
    "### Important points on why we can't simply do Q Learning:\n",
    "\n",
    "1) We need the initial position to be close to the solved state else it will be impossible for the agent to get to this state (the only one giving a reward) given the extremely vast state space.\n",
    "    -> We take as a distance to the solved state the number of random shuffles that are done from it.\n",
    "\n",
    "2) The system is completely deterministic and we know all the transitions. It is thus better to work by updating the state_values instead of the q_values as it is 6x smaller (6 actions possible for a 2x2 rubiks cube).\n",
    "\n",
    "3) We can't do full episodes as if the agent explores / goes into an unseen part of the rubiks cube he is very likely to get \"lost\" in it and do thousands of iterations before arriving to the solved state if it even reaches it. \n",
    "   "
   ]
  },
  {
   "cell_type": "code",
   "execution_count": null,
   "metadata": {},
   "outputs": [],
   "source": [
    "def train_adi(env: CubeEnv,\n",
    "                     q_network: torch.nn.Module,\n",
    "                     target_q_network: torch.nn.Module,\n",
    "                     optimizer: torch.optim.Optimizer,\n",
    "                     loss_fn: Callable,\n",
    "                     epsilon_greedy: EpsilonGreedy,\n",
    "                     device: torch.device,\n",
    "                     lr_scheduler: _LRScheduler,\n",
    "                     num_episodes_per_shuffle: int, #For each shuffle step how many episodes do we do\n",
    "                     num_shuffles: int, #How deep we go into e\n",
    "                     gamma: float,\n",
    "                     batch_size: int,\n",
    "                     target_q_network_sync_period: int) -> List[float]:\n",
    "    iteration = 0\n",
    "    episode_reward_list = []\n",
    "\n",
    "    for n_shuffle in tqdm(range(1,num_shuffles+1)):\n",
    "\n",
    "        for episode in range(1,num_episodes_per_shuffle) :\n",
    "                \n",
    "            state, _ = env.reset()\n",
    "            episode_reward = 0\n",
    "\n",
    "\n",
    "            while True:\n",
    "\n",
    "                # Get action, next_state and reward\n",
    "                action = epsilon_greedy(state)\n",
    "\n",
    "                next_state, reward, terminated, truncated, _ = env.step(action)\n",
    "                done = terminated or truncated\n",
    "\n",
    "                replay_buffer.add(state, action, reward, next_state, done)\n",
    "\n",
    "                episode_reward += reward\n",
    "\n",
    "                # Update the q_network weights with a batch of experiences from the buffer\n",
    "                if len(replay_buffer) > batch_size:\n",
    "                    batch_states, batch_actions, batch_rewards, batch_next_states, batch_dones = replay_buffer.sample(batch_size)\n",
    "\n",
    "                    # Convert to PyTorch tensors\n",
    "                    batch_states_tensor = torch.tensor(batch_states, dtype=torch.float32, device=device)\n",
    "                    batch_actions_tensor = torch.tensor(batch_actions, dtype=torch.long, device=device)\n",
    "                    batch_rewards_tensor = torch.tensor(batch_rewards, dtype=torch.float32, device=device)\n",
    "                    batch_next_states_tensor = torch.tensor(batch_next_states, dtype=torch.float32, device=device)\n",
    "                    batch_dones_tensor = torch.tensor(batch_dones, dtype=torch.float32, device=device)\n",
    "\n",
    "                    target_tensor = batch_rewards_tensor + gamma * target_q_network(batch_next_states_tensor).max(dim=1)[0] * (1 - batch_dones_tensor)\n",
    "                    output_tensor = q_network(batch_states_tensor).index_select(dim=1, index=batch_actions_tensor)\n",
    "                    loss = loss_fn(output_tensor, target_tensor)\n",
    "\n",
    "                    # Optimize the model\n",
    "                    optimizer.zero_grad()\n",
    "                    loss.backward()\n",
    "                    optimizer.step()\n",
    "\n",
    "                    lr_scheduler.step()\n",
    "\n",
    "                # Update the target q-network\n",
    "\n",
    "                # Every few training steps (e.g., every 100 steps), the weights of the target network are updated with the weights of the Q-network\n",
    "                if iteration % target_q_network_sync_period == 0:\n",
    "                    target_q_network.load_state_dict(q_network.state_dict())\n",
    "\n",
    "                iteration += 1\n",
    "\n",
    "                if done:\n",
    "                    break\n",
    "\n",
    "                state = next_state\n",
    "\n",
    "        episode_reward_list.append(episode_reward)\n",
    "        epsilon_greedy.decay_epsilon()\n",
    "\n",
    "    return episode_reward_list"
   ]
  },
  {
   "cell_type": "markdown",
   "metadata": {},
   "source": [
    "## Train it"
   ]
  },
  {
   "cell_type": "code",
   "execution_count": null,
   "metadata": {},
   "outputs": [],
   "source": [
    "\n",
    "NUMBER_OF_TRAININGS = 20\n",
    "dqn2_trains_result_list = [[], [], []]\n",
    "\n",
    "for train_index in range(NUMBER_OF_TRAININGS):\n",
    "    q_network = QNetwork().to(device) # q network\n",
    "    target_q_network = QNetwork().to(device) # target q network\n",
    "    target_q_network.load_state_dict(q_network.state_dict()) # load same weights\n",
    "\n",
    "    optimizer = torch.optim.AdamW(q_network.parameters(), lr=0.004, amsgrad=True)\n",
    "    #lr_scheduler = torch.optim.lr_scheduler.ExponentialLR(optimizer, gamma=0.999)\n",
    "    lr_scheduler = MinimumExponentialLR(optimizer, lr_decay=0.97, min_lr=0.0001)\n",
    "    loss_fn = torch.nn.MSELoss()\n",
    "\n",
    "    epsilon_greedy = EpsilonGreedy(epsilon_start=0.82, epsilon_min=0.013, epsilon_decay=0.9675, q_network=q_network)\n",
    "\n",
    "    replay_buffer = ReplayBuffer(2000)\n",
    "\n",
    "    # Train the q-network\n",
    "\n",
    "    episode_reward_list = train_dqn2_agent(q_network,\n",
    "                                           target_q_network,\n",
    "                                           optimizer,\n",
    "                                           loss_fn,\n",
    "                                           epsilon_greedy,\n",
    "                                           device,\n",
    "                                           lr_scheduler,\n",
    "                                           num_episodes=150,\n",
    "                                           gamma=0.9,\n",
    "                                           batch_size=128,\n",
    "                                           replay_buffer=replay_buffer,\n",
    "                                           target_q_network_sync_period=30)\n",
    "    dqn2_trains_result_list[0].extend(range(len(episode_reward_list)))\n",
    "    dqn2_trains_result_list[1].extend(episode_reward_list)\n",
    "    dqn2_trains_result_list[2].extend([train_index for _ in episode_reward_list])\n",
    "\n",
    "dqn2_trains_result_df = pd.DataFrame(np.array(dqn2_trains_result_list).T, columns=[\"num_episodes\", \"mean_final_episode_reward\", \"training_index\"])\n",
    "dqn2_trains_result_df[\"agent\"] = \"DQN 2015\"\n",
    "\n",
    "# Save the action-value estimation function\n",
    "torch.save(q_network, \"dqn2_q_network.pth\")"
   ]
  },
  {
   "cell_type": "markdown",
   "metadata": {},
   "source": []
  }
 ],
 "metadata": {
  "kernelspec": {
   "display_name": "Python 3",
   "language": "python",
   "name": "python3"
  },
  "language_info": {
   "codemirror_mode": {
    "name": "ipython",
    "version": 3
   },
   "file_extension": ".py",
   "mimetype": "text/x-python",
   "name": "python",
   "nbconvert_exporter": "python",
   "pygments_lexer": "ipython3",
   "version": "3.11.8"
  }
 },
 "nbformat": 4,
 "nbformat_minor": 2
}
